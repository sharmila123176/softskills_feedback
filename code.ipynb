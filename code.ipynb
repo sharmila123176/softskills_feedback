{
 "cells": [
  {
   "cell_type": "code",
   "execution_count": 1,
   "id": "4a3c0442",
   "metadata": {},
   "outputs": [
    {
     "name": "stdout",
     "output_type": "stream",
     "text": [
      "\n",
      "--- Soft Skills + Teamwork Feedback Form ---\n",
      "\n",
      "\n",
      "Rate the following statements from 1 (Strongly Disagree) to 5 (Strongly Agree):\n",
      "\n",
      "Invalid input. Please enter a number between 1 and 5.\n",
      "Invalid input. Please enter a number between 1 and 5.\n",
      "Invalid input. Please enter a number between 1 and 5.\n",
      "Invalid input. Please enter a number between 1 and 5.\n",
      "Invalid input. Please enter a number between 1 and 5.\n",
      "Invalid input. Please enter a number between 1 and 5.\n",
      "Please enter a rating between 1 and 5.\n",
      "\n",
      "--- Feedback Summary ---\n",
      "Name: \n",
      "1. Demonstrates clear and respectful communication => 4\n",
      "2. Listens actively and considers team members’ input => 4\n",
      "3. Shows initiative and takes ownership of tasks => 5\n",
      "4. Cooperates well in group discussions and projects => 4\n",
      "5. Handles feedback positively and works on improvements => 5\n",
      "6. Demonstrates problem-solving and conflict resolution skills => 2\n",
      "Comments: 5\n",
      "\n",
      "Thank you for your feedback!\n"
     ]
    }
   ],
   "source": [
    "def collect_soft_skills_feedback():\n",
    "    print(\"\\n--- Soft Skills + Teamwork Feedback Form ---\\n\")\n",
    "    \n",
    "    name = input(\"Enter your name: \")\n",
    "\n",
    "    print(\"\\nRate the following statements from 1 (Strongly Disagree) to 5 (Strongly Agree):\\n\")\n",
    "\n",
    "    questions = {\n",
    "        \"1. Demonstrates clear and respectful communication\": 0,\n",
    "        \"2. Listens actively and considers team members’ input\": 0,\n",
    "        \"3. Shows initiative and takes ownership of tasks\": 0,\n",
    "        \"4. Cooperates well in group discussions and projects\": 0,\n",
    "        \"5. Handles feedback positively and works on improvements\": 0,\n",
    "        \"6. Demonstrates problem-solving and conflict resolution skills\": 0\n",
    "    }\n",
    "\n",
    "    for question in questions:\n",
    "        while True:\n",
    "            try:\n",
    "                rating = int(input(f\"{question}: \"))\n",
    "                if 1 <= rating <= 5:\n",
    "                    questions[question] = rating\n",
    "                    break\n",
    "                else:\n",
    "                    print(\"Please enter a rating between 1 and 5.\")\n",
    "            except ValueError:\n",
    "                print(\"Invalid input. Please enter a number between 1 and 5.\")\n",
    "    \n",
    "    comments = input(\"\\nAdditional comments or suggestions (optional): \")\n",
    "\n",
    "    print(\"\\n--- Feedback Summary ---\")\n",
    "    print(f\"Name: {name}\")\n",
    "    for q, r in questions.items():\n",
    "        print(f\"{q} => {r}\")\n",
    "    if comments.strip():\n",
    "        print(f\"Comments: {comments}\")\n",
    "    else:\n",
    "        print(\"No additional comments provided.\")\n",
    "\n",
    "    print(\"\\nThank you for your feedback!\")\n",
    "\n",
    "# Run the function\n",
    "collect_soft_skills_feedback()\n"
   ]
  },
  {
   "cell_type": "code",
   "execution_count": null,
   "id": "8bfc8712",
   "metadata": {},
   "outputs": [],
   "source": []
  },
  {
   "cell_type": "code",
   "execution_count": null,
   "id": "6057e419",
   "metadata": {},
   "outputs": [],
   "source": []
  },
  {
   "cell_type": "code",
   "execution_count": null,
   "id": "1baa7b97",
   "metadata": {},
   "outputs": [],
   "source": []
  }
 ],
 "metadata": {
  "kernelspec": {
   "display_name": "base",
   "language": "python",
   "name": "python3"
  },
  "language_info": {
   "codemirror_mode": {
    "name": "ipython",
    "version": 3
   },
   "file_extension": ".py",
   "mimetype": "text/x-python",
   "name": "python",
   "nbconvert_exporter": "python",
   "pygments_lexer": "ipython3",
   "version": "3.9.13"
  }
 },
 "nbformat": 4,
 "nbformat_minor": 5
}
